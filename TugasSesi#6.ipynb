{
 "cells": [
  {
   "cell_type": "code",
   "execution_count": 1,
   "id": "a7877459",
   "metadata": {},
   "outputs": [
    {
     "name": "stdout",
     "output_type": "stream",
     "text": [
      "Masuka Nilai Anda : 36\n",
      "Grade anda :  E\n",
      "Dengan Predikat :  Tidak LULUS\n"
     ]
    }
   ],
   "source": [
    "#Nama : Ari Perdian\n",
    "#Kelas : J\n",
    "\n",
    "nilai = 100\n",
    "while nilai >= 100 :\n",
    "    nilai = float((input)(\"Masuka Nilai Anda : \"))\n",
    "    if nilai >= 100 :\n",
    "        print (\"Nilai Yang anda masukan salah\")\n",
    "    elif nilai >= 90:\n",
    "        grade = \"A\"\n",
    "        predikat = \"Dengan Pujian\"\n",
    "    elif nilai >= 80:\n",
    "        grade = \"B\"\n",
    "        predikat = \"Sangat Memuaskan\"\n",
    "    elif nilai >= 70:\n",
    "        grade = \"C\"\n",
    "        predikat = \"Memuaskan\"\n",
    "    elif nilai >= 60:\n",
    "        grade = \"D\"\n",
    "        predikat = \"Dengan Pujian\"\n",
    "    elif nilai >= 0:\n",
    "        grade = \"E\"\n",
    "        predikat = \"Tidak LULUS\"\n",
    "else:\n",
    "    print (\"Grade anda : \", grade)\n",
    "    print (\"Dengan Predikat : \", predikat)"
   ]
  },
  {
   "cell_type": "code",
   "execution_count": null,
   "id": "d3bd1bd3",
   "metadata": {},
   "outputs": [],
   "source": []
  }
 ],
 "metadata": {
  "kernelspec": {
   "display_name": "Python 3 (ipykernel)",
   "language": "python",
   "name": "python3"
  },
  "language_info": {
   "codemirror_mode": {
    "name": "ipython",
    "version": 3
   },
   "file_extension": ".py",
   "mimetype": "text/x-python",
   "name": "python",
   "nbconvert_exporter": "python",
   "pygments_lexer": "ipython3",
   "version": "3.9.12"
  }
 },
 "nbformat": 4,
 "nbformat_minor": 5
}
