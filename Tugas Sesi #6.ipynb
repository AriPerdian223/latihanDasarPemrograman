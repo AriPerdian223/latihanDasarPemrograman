{
 "cells": [
  {
   "cell_type": "code",
   "execution_count": 32,
   "id": "59f193a7",
   "metadata": {},
   "outputs": [
    {
     "name": "stdout",
     "output_type": "stream",
     "text": [
      "=== TUGAS TABEL ===\n",
      "Masukan Nilai anda : 20\n",
      "Grade anda : E\n",
      "Dengan predikat : Tidak LULUS\n"
     ]
    }
   ],
   "source": [
    "# Nama : Ari Perdian\n",
    "# Kelas : J\n",
    "\n",
    "print (\"=== TUGAS TABEL ===\")\n",
    "nilai = int(input(\"Masukan Nilai anda : \"))\n",
    "\n",
    "if nilai >= 100:\n",
    "    print (\"Nilai Yang anda masukan salah\")\n",
    "    grade = \"tidak ada\"\n",
    "    predikat = \"tidak ada\"\n",
    "elif nilai >= 90:\n",
    "    grade = \"A\"\n",
    "    predikat = \"Dengan Pujian\"\n",
    "elif nilai >= 80:\n",
    "    grade = \"B\"\n",
    "    predikat = \"Sangat Memuaskan\"\n",
    "elif nilai >= 70:\n",
    "    grade = \"C\"\n",
    "    predikat = \"Memuaskan\"\n",
    "elif nilai >= 60:\n",
    "    grade = \"D\"\n",
    "    predikat = \"Dengan Pujian\"\n",
    "elif nilai >= 0:\n",
    "    grade = \"E\"\n",
    "    predikat = \"Tidak LULUS\"\n",
    "else:\n",
    "    grade = (\"tidak ada\")\n",
    "    \n",
    "print (\"Grade anda :\",grade)\n",
    "print (\"Dengan predikat :\",predikat)"
   ]
  },
  {
   "cell_type": "code",
   "execution_count": null,
   "id": "60565ba5",
   "metadata": {},
   "outputs": [],
   "source": []
  }
 ],
 "metadata": {
  "kernelspec": {
   "display_name": "Python 3 (ipykernel)",
   "language": "python",
   "name": "python3"
  },
  "language_info": {
   "codemirror_mode": {
    "name": "ipython",
    "version": 3
   },
   "file_extension": ".py",
   "mimetype": "text/x-python",
   "name": "python",
   "nbconvert_exporter": "python",
   "pygments_lexer": "ipython3",
   "version": "3.9.12"
  }
 },
 "nbformat": 4,
 "nbformat_minor": 5
}
