{
 "cells": [
  {
   "cell_type": "code",
   "execution_count": 1,
   "id": "af66f7ce",
   "metadata": {},
   "outputs": [
    {
     "name": "stdout",
     "output_type": "stream",
     "text": [
      "Nilai Dari List :  [456, 700, 200, 1000, 2000]\n",
      "Nilai Maksimum dari list :  2000\n"
     ]
    }
   ],
   "source": [
    "#Nama : Ari Perdian\n",
    "#Kelas : TI22J\n",
    "#NIM : 20220040072\n",
    "\n",
    "#1. Menggunakan List\n",
    "#A\n",
    "\n",
    "aList = [456, 700, 200, 1000, 2000]\n",
    "print(\"Nilai Dari List : \", aList)\n",
    "print (\"Nilai Maksimum dari list : \", max(aList))"
   ]
  },
  {
   "cell_type": "code",
   "execution_count": 2,
   "id": "20787d9d",
   "metadata": {},
   "outputs": [
    {
     "name": "stdout",
     "output_type": "stream",
     "text": [
      "Nilai Dari List :  [456, 700, 200, 1000, 2000]\n",
      "Nilai Minimum dari list :  200\n"
     ]
    }
   ],
   "source": [
    "#B\n",
    "aList = [456, 700, 200, 1000, 2000]\n",
    "print(\"Nilai Dari List : \", aList)\n",
    "print (\"Nilai Minimum dari list : \", min(aList))"
   ]
  },
  {
   "cell_type": "code",
   "execution_count": 3,
   "id": "25a38875",
   "metadata": {},
   "outputs": [
    {
     "name": "stdout",
     "output_type": "stream",
     "text": [
      "Original List :  ['a', 'e', 'i', 'u']\n",
      "Memasukan huruf o pada list :  ['o', 'a', 'e', 'i', 'u']\n"
     ]
    }
   ],
   "source": [
    "#C\n",
    "aList = ['a', 'e', 'i', 'u']\n",
    "print (\"Original List : \", aList)\n",
    "aList.insert(0, 'o')\n",
    "print (\"Memasukan huruf o pada list : \", aList)"
   ]
  },
  {
   "cell_type": "code",
   "execution_count": 5,
   "id": "171a816a",
   "metadata": {},
   "outputs": [
    {
     "name": "stdout",
     "output_type": "stream",
     "text": [
      "Tuple Original :  ('g', 'a', 'n', 't', 'e', 'n', 'g')\n",
      "ganteng\n"
     ]
    }
   ],
   "source": [
    "#2. Menggunakan Tuple\n",
    "#A\n",
    "\n",
    "tup1 = ('g', 'a', 'n', 't', 'e', 'n', 'g')\n",
    "print (\"Tuple Original : \", tup1)\n",
    "print (\"\".join(tup1))"
   ]
  },
  {
   "cell_type": "code",
   "execution_count": 6,
   "id": "8935cc7b",
   "metadata": {},
   "outputs": [
    {
     "name": "stdout",
     "output_type": "stream",
     "text": [
      "Nilai Dari Tuple :  [0, 200, 1000, 2, 3, 9000, 10]\n",
      "Nilai Maksimum dari tuple :  9000\n"
     ]
    }
   ],
   "source": [
    "#B\n",
    "tup2 = [0, 200, 1000, 2, 3, 9000, 10]\n",
    "print(\"Nilai Dari Tuple : \", tup2)\n",
    "print (\"Nilai Maksimum dari tuple : \", max(tup2))"
   ]
  },
  {
   "cell_type": "code",
   "execution_count": 10,
   "id": "b5132708",
   "metadata": {},
   "outputs": [
    {
     "name": "stdout",
     "output_type": "stream",
     "text": [
      "Nilai Dari Tuple :  [0, 200, 1000, 2, 3, 9000, 10]\n",
      "Nilai Minimum dari tuple :  0\n"
     ]
    }
   ],
   "source": [
    "#C\n",
    "tup2 = [0, 200, 1000, 2, 3, 9000, 10]\n",
    "print(\"Nilai Dari Tuple : \", tup2)\n",
    "print (\"Nilai Minimum dari tuple : \", min(tup2))"
   ]
  },
  {
   "cell_type": "code",
   "execution_count": 17,
   "id": "8e1b67f9",
   "metadata": {},
   "outputs": [
    {
     "name": "stdout",
     "output_type": "stream",
     "text": [
      "Nilai Dari Dictionary :  {1, 20, 23, 200, 3500, 15}\n",
      "Nilai Minimum dari Dictionary :  1\n"
     ]
    }
   ],
   "source": [
    "#3. Menggunakan Dictionary\n",
    "#A\n",
    "\n",
    "a = {20, 1, 200, 15, 23, 3500}\n",
    "print(\"Nilai Dari Dictionary : \", a)\n",
    "print (\"Nilai Minimum dari Dictionary : \", min(a))"
   ]
  },
  {
   "cell_type": "code",
   "execution_count": null,
   "id": "0edd0501",
   "metadata": {},
   "outputs": [],
   "source": []
  }
 ],
 "metadata": {
  "kernelspec": {
   "display_name": "Python 3 (ipykernel)",
   "language": "python",
   "name": "python3"
  },
  "language_info": {
   "codemirror_mode": {
    "name": "ipython",
    "version": 3
   },
   "file_extension": ".py",
   "mimetype": "text/x-python",
   "name": "python",
   "nbconvert_exporter": "python",
   "pygments_lexer": "ipython3",
   "version": "3.9.12"
  }
 },
 "nbformat": 4,
 "nbformat_minor": 5
}
