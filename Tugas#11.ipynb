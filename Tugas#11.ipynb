{
 "cells": [
  {
   "cell_type": "code",
   "execution_count": 7,
   "id": "3dee0f40",
   "metadata": {},
   "outputs": [
    {
     "name": "stdout",
     "output_type": "stream",
     "text": [
      "==============================\n",
      "Menghitung Luas & Keliling\n",
      "==============================\n",
      "1. Menghitung Luas segitiga\n",
      "2. Menghitung Luas Persegi Panjang\n",
      "3. Menghitung Keliling segitiga\n",
      "4. Menghitung Keliling Lingkaran\n",
      "Masukan Pilihan Anda 1/2/3/4 : 1\n",
      "Masukkan nilai Alas : 5\n",
      "Masukkan nilai Tinggi : 10\n",
      "Luas Segitiganya :  25.0 \n",
      "\n",
      "Lanjut (y/n)?n\n",
      "Program selesai!\n"
     ]
    }
   ],
   "source": [
    "#Nama : Ari Perdian\n",
    "#Kelas : TI22J\n",
    "#NIM : 20220040072\n",
    "\n",
    "#SOAL 1\n",
    "def luas_dan_keliling():\n",
    "    print (\"=\" * 30)\n",
    "    print (\"Menghitung Luas & Keliling\")\n",
    "    print (\"=\" * 30)\n",
    "\n",
    "    print (\"1. Menghitung Luas segitiga\")\n",
    "    print (\"2. Menghitung Luas Persegi Panjang\")\n",
    "    print (\"3. Menghitung Keliling segitiga\")\n",
    "    print (\"4. Menghitung Keliling Lingkaran\",)\n",
    "\n",
    "\n",
    "    a = float(input(\"Masukan Pilihan Anda 1/2/3/4 : \"))\n",
    "\n",
    "    if a==1 :\n",
    "        alas = float(input(\"Masukkan nilai Alas : \"))\n",
    "        tinggi = float(input(\"Masukkan nilai Tinggi : \"))\n",
    "        luas = 1/2 * alas * tinggi\n",
    "        print (\"Luas Segitiganya : \", luas, \"\\n\")\n",
    "        \n",
    "    elif a==2 :\n",
    "        panjang = float(input(\"Masukkan nilai panjang : \"))\n",
    "        lebar = float (input(\"Masukan nilai lebar : \"))\n",
    "        hasil = panjang * lebar\n",
    "        print (\"Luas Persegi panjangnya : \", hasil, \"\\n\")\n",
    "\n",
    "    elif a==3 :\n",
    "            print (\"=== Segitiga ===\")\n",
    "            alas = int(input(\"Masukan Nilai alasnya : \"))\n",
    "            tinggi = int(input(\"Masukan Nilai tingginya : \"))\n",
    "            kanan = int(input(\"Masukan Nilai sisinya : \"))\n",
    "            hasil = (1/2*alas*tinggi)\n",
    "            print (\"Nilai Kelilingnya : \", (alas + kanan * 2 ))\n",
    "    elif a==4 :\n",
    "            print (\"=== Lingkaran ===\")\n",
    "            r= float(input(\"Masukan Nilai jari - jari : \"))\n",
    "            phi = 3.14\n",
    "            diameter = 2*r\n",
    "\n",
    "            luas8 = phi*r*r\n",
    "            keliling8 = phi*diameter\n",
    "\n",
    "            print (\"Nilai Kelilingnya : \", keliling8)\n",
    "\n",
    "while True:\n",
    "     luas_dan_keliling()\n",
    "     lanjut = input(\"Lanjut (y/n)?\")\n",
    "     if lanjut == \"n\":\n",
    "           break\n",
    "print(\"Program selesai!\")"
   ]
  },
  {
   "cell_type": "code",
   "execution_count": 8,
   "id": "172c3281",
   "metadata": {},
   "outputs": [
    {
     "name": "stdout",
     "output_type": "stream",
     "text": [
      "Total yang harus dibayar :  1100000\n",
      "Harga bayar kos : 850000\n",
      "harga bayar denda : 250000\n"
     ]
    }
   ],
   "source": [
    "#SOAL 2\n",
    "def bayar_kos(terlambat):\n",
    "    biayakos = 850000\n",
    "    denda = 50000\n",
    "    telat = terlambat * denda\n",
    "    print(\"Total yang harus dibayar : \", biayakos + telat )\n",
    "    print(f\"Harga bayar kos : {biayakos}\")\n",
    "    print(f\"harga bayar denda : {telat}\")\n",
    "\n",
    "bayar_kos(5)"
   ]
  },
  {
   "cell_type": "code",
   "execution_count": null,
   "id": "41dc88d2",
   "metadata": {},
   "outputs": [],
   "source": []
  }
 ],
 "metadata": {
  "kernelspec": {
   "display_name": "Python 3 (ipykernel)",
   "language": "python",
   "name": "python3"
  },
  "language_info": {
   "codemirror_mode": {
    "name": "ipython",
    "version": 3
   },
   "file_extension": ".py",
   "mimetype": "text/x-python",
   "name": "python",
   "nbconvert_exporter": "python",
   "pygments_lexer": "ipython3",
   "version": "3.9.12"
  }
 },
 "nbformat": 4,
 "nbformat_minor": 5
}
