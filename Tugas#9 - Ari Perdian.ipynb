{
 "cells": [
  {
   "cell_type": "code",
   "execution_count": 1,
   "id": "89e54fbc",
   "metadata": {},
   "outputs": [
    {
     "name": "stdout",
     "output_type": "stream",
     "text": [
      "Masukan Jumlah data mahasiswa : 1\n",
      "Data ke -1\n",
      "Masukkan NIM Mahasiswa : 20220040072\n",
      "Masukkan Nilai UTS Mahasiswa : 78\n",
      "Masukkan Nilai UAS Mahasiswa : 90\n",
      "==========================================================================\n",
      "NIM           Nilai UTS       Nilai UAS  Total   Grade   Keterangan\n",
      "==========================================================================\n",
      "20220040072 \t 78 \t \t 90 \t 84.0 \t B+ \t Lulus\n"
     ]
    }
   ],
   "source": [
    "list_nim = []\n",
    "list_uts = []\n",
    "list_uas = []\n",
    "list_total = []\n",
    "\n",
    "nilai = int(input(\"Masukan Jumlah data mahasiswa : \"))\n",
    "for i in range(nilai) :\n",
    "    print (\"Data ke -\" + str(i+1))\n",
    "    list_nim.append(input(\"Masukkan NIM Mahasiswa : \"))\n",
    "    list_uts.append (int(input(\"Masukkan Nilai UTS Mahasiswa : \")))\n",
    "    list_uas.append (int(input(\"Masukkan Nilai UAS Mahasiswa : \")))\n",
    "    \n",
    "for i in range(nilai) :\n",
    "    list_total.append((list_uts[i] + list_uas[i]) /2)\n",
    "    \n",
    "list_total[i]\n",
    "    \n",
    "if list_total[i] >= 90:\n",
    "    grade = \"A\"\n",
    "    keterangan = \"Lulus\"\n",
    "elif list_total[i] >= 80:\n",
    "    grade = \"B+\"\n",
    "    keterangan = \"Lulus\"\n",
    "elif list_total[i] >= 70:\n",
    "    grade = \"B\"\n",
    "    keterangan = \"Lulus\"\n",
    "elif list_total[i] >= 60:\n",
    "    grade = \"C+\"\n",
    "    keterangan = \"Lulus\"\n",
    "elif list_total[i] >= 50:\n",
    "    grade = \"C\"\n",
    "    keterangan = \"Lulus\"\n",
    "elif list_total[i] >= 40:\n",
    "    grade = \"D\"\n",
    "    keterangan = \"Tidak Lulus\"\n",
    "elif list_total[i] >= 30:\n",
    "    grade = \"E\"\n",
    "    keterangan = \"Tidak Lulus\"\n",
    "elif list_total[i] <= 29:\n",
    "    grade = \"F\"\n",
    "    keterangan = \"Tidak Lulus\"\n",
    "else :\n",
    "    grade = \"Tidak Ada\"\n",
    "\n",
    "\n",
    "\n",
    "\n",
    "print (\"==========================================================================\")\n",
    "print (\"NIM           Nilai UTS       Nilai UAS  Total   Grade   Keterangan\")\n",
    "print (\"==========================================================================\")\n",
    "print (list_nim[i],\"\\t\", list_uts[i], \"\\t \\t\", list_uas[i], \"\\t\", list_total[i], \"\\t\", grade, \"\\t\", keterangan)"
   ]
  },
  {
   "cell_type": "code",
   "execution_count": 4,
   "id": "a34eb196",
   "metadata": {},
   "outputs": [
    {
     "name": "stdout",
     "output_type": "stream",
     "text": [
      "Tuliskan teks: aiueodaio\n",
      "Total karakter: 9\n",
      "Total huruf vokal: 8\n",
      "  a -> 2\n",
      "  i -> 2\n",
      "  u -> 1\n",
      "  e -> 1\n",
      "  o -> 2\n"
     ]
    }
   ],
   "source": [
    "teks = input('Tuliskan teks: ').lower()\n",
    "huruf_vokal = {\n",
    "  'a': 0,\n",
    "  'i': 0,\n",
    "  'u': 0,\n",
    "  'e': 0,\n",
    "  'o': 0\n",
    "}\n",
    "total_huruf_vokal = 0\n",
    "for karakter in teks:\n",
    "  if karakter in ['a', 'i', 'u', 'e',  'o']:\n",
    "    huruf_vokal[karakter] += 1\n",
    "    total_huruf_vokal += 1\n",
    "print(f'Total karakter: {len(teks)}')\n",
    "print(f'Total huruf vokal: {total_huruf_vokal}')\n",
    "print(f\"\"\"\\\n",
    "  a -> {huruf_vokal['a']}\n",
    "  i -> {huruf_vokal['i']}\n",
    "  u -> {huruf_vokal['u']}\n",
    "  e -> {huruf_vokal['e']}\n",
    "  o -> {huruf_vokal['o']}\\\n",
    "\"\"\")"
   ]
  },
  {
   "cell_type": "code",
   "execution_count": null,
   "id": "f43867e8",
   "metadata": {},
   "outputs": [],
   "source": []
  }
 ],
 "metadata": {
  "kernelspec": {
   "display_name": "Python 3 (ipykernel)",
   "language": "python",
   "name": "python3"
  },
  "language_info": {
   "codemirror_mode": {
    "name": "ipython",
    "version": 3
   },
   "file_extension": ".py",
   "mimetype": "text/x-python",
   "name": "python",
   "nbconvert_exporter": "python",
   "pygments_lexer": "ipython3",
   "version": "3.9.12"
  }
 },
 "nbformat": 4,
 "nbformat_minor": 5
}
